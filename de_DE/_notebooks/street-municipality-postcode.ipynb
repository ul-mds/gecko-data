{
 "cells": [
  {
   "cell_type": "code",
   "execution_count": 1,
   "metadata": {},
   "outputs": [
    {
     "name": "stderr",
     "output_type": "stream",
     "text": [
      "/tmp/ipykernel_13786/4080736814.py:1: DeprecationWarning: \n",
      "Pyarrow will become a required dependency of pandas in the next major release of pandas (pandas 3.0),\n",
      "(to allow more performant data types, such as the Arrow string type, and better interoperability with other libraries)\n",
      "but was not found to be installed on your system.\n",
      "If this would cause problems for you,\n",
      "please provide us feedback at https://github.com/pandas-dev/pandas/issues/54466\n",
      "        \n",
      "  import pandas as pd\n"
     ]
    }
   ],
   "source": [
    "import pandas as pd"
   ]
  },
  {
   "cell_type": "code",
   "execution_count": 2,
   "metadata": {},
   "outputs": [],
   "source": [
    "import json\n",
    "\n",
    "from zipfile import ZipFile, Path\n",
    "from urllib.request import urlopen\n",
    "from io import BytesIO\n",
    "\n",
    "with urlopen(\"https://interactive.zeit.de/2017/strassennamen/datensatz_deutsche_strassennamen.zip\") as f_zip:\n",
    "    f = ZipFile(BytesIO(f_zip.read()), metadata_encoding=\"utf-8\")"
   ]
  },
  {
   "cell_type": "code",
   "execution_count": 3,
   "metadata": {},
   "outputs": [
    {
     "name": "stdout",
     "output_type": "stream",
     "text": [
      "1264915\n"
     ]
    }
   ],
   "source": [
    "geojson = json.load((Path(f) / \"Straßennamen\" / \"streets.geojson\").open(encoding=\"latin-1\"))\n",
    "print(len(geojson[\"features\"]))"
   ]
  },
  {
   "cell_type": "code",
   "execution_count": 6,
   "metadata": {},
   "outputs": [
    {
     "data": {
      "text/html": [
       "<div>\n",
       "<style scoped>\n",
       "    .dataframe tbody tr th:only-of-type {\n",
       "        vertical-align: middle;\n",
       "    }\n",
       "\n",
       "    .dataframe tbody tr th {\n",
       "        vertical-align: top;\n",
       "    }\n",
       "\n",
       "    .dataframe thead th {\n",
       "        text-align: right;\n",
       "    }\n",
       "</style>\n",
       "<table border=\"1\" class=\"dataframe\">\n",
       "  <thead>\n",
       "    <tr style=\"text-align: right;\">\n",
       "      <th></th>\n",
       "      <th>street_name</th>\n",
       "      <th>municipality</th>\n",
       "      <th>postcode</th>\n",
       "    </tr>\n",
       "  </thead>\n",
       "  <tbody>\n",
       "    <tr>\n",
       "      <th>0</th>\n",
       "      <td>1</td>\n",
       "      <td>Konstanz</td>\n",
       "      <td>78465</td>\n",
       "    </tr>\n",
       "    <tr>\n",
       "      <th>1</th>\n",
       "      <td>10</td>\n",
       "      <td>Dresden</td>\n",
       "      <td>01099</td>\n",
       "    </tr>\n",
       "    <tr>\n",
       "      <th>2</th>\n",
       "      <td>10</td>\n",
       "      <td>Dresden</td>\n",
       "      <td>01109</td>\n",
       "    </tr>\n",
       "    <tr>\n",
       "      <th>3</th>\n",
       "      <td>10 AS Hörstel</td>\n",
       "      <td>Hörstel</td>\n",
       "      <td>48477</td>\n",
       "    </tr>\n",
       "    <tr>\n",
       "      <th>4</th>\n",
       "      <td>10 AS Richtung Amsterdam</td>\n",
       "      <td>Hörstel</td>\n",
       "      <td>48477</td>\n",
       "    </tr>\n",
       "    <tr>\n",
       "      <th>...</th>\n",
       "      <td>...</td>\n",
       "      <td>...</td>\n",
       "      <td>...</td>\n",
       "    </tr>\n",
       "    <tr>\n",
       "      <th>1324270</th>\n",
       "      <td>Zyriakusweg</td>\n",
       "      <td>Deidesheim</td>\n",
       "      <td>67146</td>\n",
       "    </tr>\n",
       "    <tr>\n",
       "      <th>1324271</th>\n",
       "      <td>Zywiecstraße</td>\n",
       "      <td>Unterhaching</td>\n",
       "      <td>82008</td>\n",
       "    </tr>\n",
       "    <tr>\n",
       "      <th>1324272</th>\n",
       "      <td>zZ nicht nutzbar</td>\n",
       "      <td>Berlin</td>\n",
       "      <td>10551</td>\n",
       "    </tr>\n",
       "    <tr>\n",
       "      <th>1324273</th>\n",
       "      <td>z.Z. schecht begehbar</td>\n",
       "      <td>Püttlingen</td>\n",
       "      <td>66346</td>\n",
       "    </tr>\n",
       "    <tr>\n",
       "      <th>1324274</th>\n",
       "      <td>z.Zt. nicht fahrbar</td>\n",
       "      <td>Saarwellingen</td>\n",
       "      <td>66793</td>\n",
       "    </tr>\n",
       "  </tbody>\n",
       "</table>\n",
       "<p>1324275 rows × 3 columns</p>\n",
       "</div>"
      ],
      "text/plain": [
       "                      street_name   municipality postcode\n",
       "0                               1       Konstanz    78465\n",
       "1                              10        Dresden    01099\n",
       "2                              10        Dresden    01109\n",
       "3                   10 AS Hörstel        Hörstel    48477\n",
       "4        10 AS Richtung Amsterdam        Hörstel    48477\n",
       "...                           ...            ...      ...\n",
       "1324270               Zyriakusweg     Deidesheim    67146\n",
       "1324271              Zywiecstraße   Unterhaching    82008\n",
       "1324272          zZ nicht nutzbar         Berlin    10551\n",
       "1324273     z.Z. schecht begehbar     Püttlingen    66346\n",
       "1324274       z.Zt. nicht fahrbar  Saarwellingen    66793\n",
       "\n",
       "[1324275 rows x 3 columns]"
      ]
     },
     "execution_count": 6,
     "metadata": {},
     "output_type": "execute_result"
    }
   ],
   "source": [
    "def __encode(x):\n",
    "    return bytes(x, \"latin-1\").decode(\"utf-8\").strip()\n",
    "\n",
    "df_dict = {\"street_name\": [], \"municipality\": [], \"postcode\": []}\n",
    "\n",
    "for feature in geojson[\"features\"]:\n",
    "    props = feature[\"properties\"]\n",
    "    street_name = props[\"NAME\"]\n",
    "    municipality = props[\"GEMEINDE\"]\n",
    "    postcode = props[\"PLZ\"]\n",
    "\n",
    "    if None in (street_name, municipality, postcode):\n",
    "        continue\n",
    "\n",
    "    for p in postcode.split(\",\"):\n",
    "        df_dict[\"street_name\"].append(__encode(street_name))\n",
    "        df_dict[\"municipality\"].append(__encode(municipality))\n",
    "        df_dict[\"postcode\"].append(__encode(p))\n",
    "\n",
    "df = pd.DataFrame(df_dict, dtype=str)\n",
    "df"
   ]
  },
  {
   "cell_type": "code",
   "execution_count": 7,
   "metadata": {},
   "outputs": [
    {
     "data": {
      "text/html": [
       "<div>\n",
       "<style scoped>\n",
       "    .dataframe tbody tr th:only-of-type {\n",
       "        vertical-align: middle;\n",
       "    }\n",
       "\n",
       "    .dataframe tbody tr th {\n",
       "        vertical-align: top;\n",
       "    }\n",
       "\n",
       "    .dataframe thead th {\n",
       "        text-align: right;\n",
       "    }\n",
       "</style>\n",
       "<table border=\"1\" class=\"dataframe\">\n",
       "  <thead>\n",
       "    <tr style=\"text-align: right;\">\n",
       "      <th></th>\n",
       "      <th>street_name</th>\n",
       "      <th>municipality</th>\n",
       "      <th>postcode</th>\n",
       "    </tr>\n",
       "  </thead>\n",
       "  <tbody>\n",
       "    <tr>\n",
       "      <th>152</th>\n",
       "      <td>Aabauerschaft</td>\n",
       "      <td>Steinfurt</td>\n",
       "      <td>48493</td>\n",
       "    </tr>\n",
       "    <tr>\n",
       "      <th>153</th>\n",
       "      <td>Aabauerschaft</td>\n",
       "      <td>Steinfurt</td>\n",
       "      <td>48565</td>\n",
       "    </tr>\n",
       "    <tr>\n",
       "      <th>154</th>\n",
       "      <td>Aabauerschaft</td>\n",
       "      <td>Steinfurt</td>\n",
       "      <td>48493</td>\n",
       "    </tr>\n",
       "    <tr>\n",
       "      <th>155</th>\n",
       "      <td>Aabauerschaft</td>\n",
       "      <td>Steinfurt</td>\n",
       "      <td>48565</td>\n",
       "    </tr>\n",
       "    <tr>\n",
       "      <th>156</th>\n",
       "      <td>Aachbachstraße</td>\n",
       "      <td>Stockach</td>\n",
       "      <td>78333</td>\n",
       "    </tr>\n",
       "    <tr>\n",
       "      <th>...</th>\n",
       "      <td>...</td>\n",
       "      <td>...</td>\n",
       "      <td>...</td>\n",
       "    </tr>\n",
       "    <tr>\n",
       "      <th>1324270</th>\n",
       "      <td>Zyriakusweg</td>\n",
       "      <td>Deidesheim</td>\n",
       "      <td>67146</td>\n",
       "    </tr>\n",
       "    <tr>\n",
       "      <th>1324271</th>\n",
       "      <td>Zywiecstraße</td>\n",
       "      <td>Unterhaching</td>\n",
       "      <td>82008</td>\n",
       "    </tr>\n",
       "    <tr>\n",
       "      <th>1324272</th>\n",
       "      <td>zZ nicht nutzbar</td>\n",
       "      <td>Berlin</td>\n",
       "      <td>10551</td>\n",
       "    </tr>\n",
       "    <tr>\n",
       "      <th>1324273</th>\n",
       "      <td>z.Z. schecht begehbar</td>\n",
       "      <td>Püttlingen</td>\n",
       "      <td>66346</td>\n",
       "    </tr>\n",
       "    <tr>\n",
       "      <th>1324274</th>\n",
       "      <td>z.Zt. nicht fahrbar</td>\n",
       "      <td>Saarwellingen</td>\n",
       "      <td>66793</td>\n",
       "    </tr>\n",
       "  </tbody>\n",
       "</table>\n",
       "<p>1316954 rows × 3 columns</p>\n",
       "</div>"
      ],
      "text/plain": [
       "                   street_name   municipality postcode\n",
       "152              Aabauerschaft      Steinfurt    48493\n",
       "153              Aabauerschaft      Steinfurt    48565\n",
       "154              Aabauerschaft      Steinfurt    48493\n",
       "155              Aabauerschaft      Steinfurt    48565\n",
       "156             Aachbachstraße       Stockach    78333\n",
       "...                        ...            ...      ...\n",
       "1324270            Zyriakusweg     Deidesheim    67146\n",
       "1324271           Zywiecstraße   Unterhaching    82008\n",
       "1324272       zZ nicht nutzbar         Berlin    10551\n",
       "1324273  z.Z. schecht begehbar     Püttlingen    66346\n",
       "1324274    z.Zt. nicht fahrbar  Saarwellingen    66793\n",
       "\n",
       "[1316954 rows x 3 columns]"
      ]
     },
     "execution_count": 7,
     "metadata": {},
     "output_type": "execute_result"
    }
   ],
   "source": [
    "df_streets = df[~df[\"street_name\"].str.contains(r\"\\d\")]\n",
    "df_streets"
   ]
  },
  {
   "cell_type": "code",
   "execution_count": 8,
   "metadata": {},
   "outputs": [
    {
     "data": {
      "text/plain": [
       "street_name\n",
       "Hauptstraße           5928\n",
       "Schulstraße           4785\n",
       "Gartenstraße          4494\n",
       "Bahnhofstraße         4211\n",
       "Dorfstraße            3904\n",
       "                      ... \n",
       "Handwerkerpfad           1\n",
       "Handwerkerallee          1\n",
       "Handwerker-Passage       1\n",
       "Handwercherstraße        1\n",
       "Žitavská                 1\n",
       "Name: count, Length: 446917, dtype: int64"
      ]
     },
     "execution_count": 8,
     "metadata": {},
     "output_type": "execute_result"
    }
   ],
   "source": [
    "# consider each street name per municipality once\n",
    "srs_street_name_freq = df_streets.drop_duplicates([\"street_name\", \"municipality\"]).value_counts(\"street_name\")\n",
    "srs_street_name_freq"
   ]
  },
  {
   "cell_type": "code",
   "execution_count": 9,
   "metadata": {},
   "outputs": [
    {
     "data": {
      "text/plain": [
       "street_name\n",
       "Hauptstraße      5928\n",
       "Schulstraße      4785\n",
       "Gartenstraße     4494\n",
       "Bahnhofstraße    4211\n",
       "Dorfstraße       3904\n",
       "                 ... \n",
       "Hopfenberg         23\n",
       "Am Berghang        23\n",
       "Brunnenberg        23\n",
       "Brennerstraße      23\n",
       "Stiege             23\n",
       "Name: count, Length: 4549, dtype: int64"
      ]
     },
     "execution_count": 9,
     "metadata": {},
     "output_type": "execute_result"
    }
   ],
   "source": [
    "# only keep street names in the 99% quantile (drops street names with less than 23 occurrences)\n",
    "srs_street_name_freq_q99 = srs_street_name_freq[srs_street_name_freq >= srs_street_name_freq.quantile(.99)]\n",
    "srs_street_name_freq_q99"
   ]
  },
  {
   "cell_type": "code",
   "execution_count": 10,
   "metadata": {},
   "outputs": [
    {
     "data": {
      "text/html": [
       "<div>\n",
       "<style scoped>\n",
       "    .dataframe tbody tr th:only-of-type {\n",
       "        vertical-align: middle;\n",
       "    }\n",
       "\n",
       "    .dataframe tbody tr th {\n",
       "        vertical-align: top;\n",
       "    }\n",
       "\n",
       "    .dataframe thead th {\n",
       "        text-align: right;\n",
       "    }\n",
       "</style>\n",
       "<table border=\"1\" class=\"dataframe\">\n",
       "  <thead>\n",
       "    <tr style=\"text-align: right;\">\n",
       "      <th></th>\n",
       "      <th>street_name</th>\n",
       "      <th>municipality</th>\n",
       "      <th>postcode</th>\n",
       "    </tr>\n",
       "  </thead>\n",
       "  <tbody>\n",
       "    <tr>\n",
       "      <th>160</th>\n",
       "      <td>Aachener Straße</td>\n",
       "      <td>Aachen</td>\n",
       "      <td>52074</td>\n",
       "    </tr>\n",
       "    <tr>\n",
       "      <th>161</th>\n",
       "      <td>Aachener Straße</td>\n",
       "      <td>Bad Soden-Salmünster</td>\n",
       "      <td>63628</td>\n",
       "    </tr>\n",
       "    <tr>\n",
       "      <th>162</th>\n",
       "      <td>Aachener Straße</td>\n",
       "      <td>Blankenheim</td>\n",
       "      <td>53945</td>\n",
       "    </tr>\n",
       "    <tr>\n",
       "      <th>163</th>\n",
       "      <td>Aachener Straße</td>\n",
       "      <td>Bornheim</td>\n",
       "      <td>53332</td>\n",
       "    </tr>\n",
       "    <tr>\n",
       "      <th>164</th>\n",
       "      <td>Aachener Straße</td>\n",
       "      <td>Bremen</td>\n",
       "      <td>28327</td>\n",
       "    </tr>\n",
       "    <tr>\n",
       "      <th>...</th>\n",
       "      <td>...</td>\n",
       "      <td>...</td>\n",
       "      <td>...</td>\n",
       "    </tr>\n",
       "    <tr>\n",
       "      <th>1324264</th>\n",
       "      <td>Zypressenweg</td>\n",
       "      <td>Schenefeld</td>\n",
       "      <td>22869</td>\n",
       "    </tr>\n",
       "    <tr>\n",
       "      <th>1324265</th>\n",
       "      <td>Zypressenweg</td>\n",
       "      <td>Schmelz</td>\n",
       "      <td>66839</td>\n",
       "    </tr>\n",
       "    <tr>\n",
       "      <th>1324266</th>\n",
       "      <td>Zypressenweg</td>\n",
       "      <td>St. Leon-Rot</td>\n",
       "      <td>68789</td>\n",
       "    </tr>\n",
       "    <tr>\n",
       "      <th>1324267</th>\n",
       "      <td>Zypressenweg</td>\n",
       "      <td>Stockstadt am Main</td>\n",
       "      <td>63811</td>\n",
       "    </tr>\n",
       "    <tr>\n",
       "      <th>1324268</th>\n",
       "      <td>Zypressenweg</td>\n",
       "      <td>Berlin</td>\n",
       "      <td>13159</td>\n",
       "    </tr>\n",
       "  </tbody>\n",
       "</table>\n",
       "<p>545204 rows × 3 columns</p>\n",
       "</div>"
      ],
      "text/plain": [
       "             street_name          municipality postcode\n",
       "160      Aachener Straße                Aachen    52074\n",
       "161      Aachener Straße  Bad Soden-Salmünster    63628\n",
       "162      Aachener Straße           Blankenheim    53945\n",
       "163      Aachener Straße              Bornheim    53332\n",
       "164      Aachener Straße                Bremen    28327\n",
       "...                  ...                   ...      ...\n",
       "1324264     Zypressenweg            Schenefeld    22869\n",
       "1324265     Zypressenweg               Schmelz    66839\n",
       "1324266     Zypressenweg          St. Leon-Rot    68789\n",
       "1324267     Zypressenweg    Stockstadt am Main    63811\n",
       "1324268     Zypressenweg                Berlin    13159\n",
       "\n",
       "[545204 rows x 3 columns]"
      ]
     },
     "execution_count": 10,
     "metadata": {},
     "output_type": "execute_result"
    }
   ],
   "source": [
    "df_streets_frequent = df_streets[df_streets[\"street_name\"].isin(srs_street_name_freq_q99.index)]\n",
    "df_streets_frequent"
   ]
  },
  {
   "cell_type": "code",
   "execution_count": 17,
   "metadata": {},
   "outputs": [],
   "source": [
    "# pick 5% of rows at random\n",
    "import numpy as np\n",
    "\n",
    "rng = np.random.default_rng(1337)\n",
    "arr_rand_mask = rng.random(len(df_streets_frequent)) < 0.05"
   ]
  },
  {
   "cell_type": "code",
   "execution_count": 18,
   "metadata": {},
   "outputs": [
    {
     "name": "stdout",
     "output_type": "stream",
     "text": [
      "1316954 > 545204 > 27163\n"
     ]
    }
   ],
   "source": [
    "print(len(df_streets), \">\", len(df_streets_frequent), \">\", len(df_streets_frequent[arr_rand_mask]))"
   ]
  },
  {
   "cell_type": "code",
   "execution_count": 19,
   "metadata": {},
   "outputs": [],
   "source": [
    "df_streets_frequent[arr_rand_mask].value_counts().to_csv(\"street-municipality-postcode.csv\")"
   ]
  },
  {
   "cell_type": "code",
   "execution_count": null,
   "metadata": {},
   "outputs": [],
   "source": []
  }
 ],
 "metadata": {
  "kernelspec": {
   "display_name": "geco-py3-data-MvviTSha-py3.11",
   "language": "python",
   "name": "python3"
  },
  "language_info": {
   "codemirror_mode": {
    "name": "ipython",
    "version": 3
   },
   "file_extension": ".py",
   "mimetype": "text/x-python",
   "name": "python",
   "nbconvert_exporter": "python",
   "pygments_lexer": "ipython3",
   "version": "3.11.6"
  }
 },
 "nbformat": 4,
 "nbformat_minor": 2
}
